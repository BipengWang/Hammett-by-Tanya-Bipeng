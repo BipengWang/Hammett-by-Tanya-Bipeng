{
 "cells": [
  {
   "cell_type": "code",
   "execution_count": 34,
   "metadata": {},
   "outputs": [],
   "source": [
    "import pandas as pd\n",
    "import numpy as np\n",
    "from sklearn.ensemble import RandomForestRegressor\n",
    "from sklearn import utils\n",
    "from sklearn import preprocessing\n",
    "from sklearn.metrics import mean_squared_error"
   ]
  },
  {
   "cell_type": "code",
   "execution_count": 35,
   "metadata": {
    "scrolled": false
   },
   "outputs": [],
   "source": [
    "input=pd.read_csv('/Users/blair/Desktop/RFRegressor/input_386.csv')#Put address\n",
    "efp=pd.read_csv('/Users/blair/Desktop/RFRegressor/ecfp_256.csv')\n",
    "efp=np.array(efp)\n",
    "Isomer=input[['Isomer']].copy()\n",
    "X=np.concatenate((efp,Isomer),axis=1)"
   ]
  },
  {
   "cell_type": "code",
   "execution_count": 36,
   "metadata": {},
   "outputs": [],
   "source": [
    "X=preprocessing.normalize(X)\n",
    "#print(X)\n",
    "#print(len(X))"
   ]
  },
  {
   "cell_type": "code",
   "execution_count": 37,
   "metadata": {},
   "outputs": [],
   "source": [
    "Y=input[['Hammett Constant']].copy()\n",
    "Y=np.array(Y)\n",
    "#print(y)\n",
    "#print(len(Y))\n",
    "#print(type(Y))\n",
    "#print(Y)"
   ]
  },
  {
   "cell_type": "code",
   "execution_count": 38,
   "metadata": {},
   "outputs": [],
   "source": [
    "def bootstrap_resample(X, n=None):\n",
    "   \n",
    "    if n == None:\n",
    "        n = len(X)\n",
    "        \n",
    "    resample_i = np.floor(np.random.rand(n)*len(X)).astype(int)\n",
    "    i= resample_i\n",
    "    return i"
   ]
  },
  {
   "cell_type": "code",
   "execution_count": 39,
   "metadata": {},
   "outputs": [],
   "source": [
    "MSE_boot=np.zeros((100),dtype= float)\n",
    "Index= np.zeros((100,386),dtype=int)\n",
    "Y_prediction=np.zeros(386).T\n",
    "Y_pred_all=np.zeros((386,100),dtype=float)"
   ]
  },
  {
   "cell_type": "code",
   "execution_count": 40,
   "metadata": {},
   "outputs": [],
   "source": [
    "regr = RandomForestRegressor(n_estimators=100, max_depth=None,\n",
    "                             random_state=0,bootstrap=0)"
   ]
  },
  {
   "cell_type": "code",
   "execution_count": 41,
   "metadata": {},
   "outputs": [],
   "source": [
    "for m in range(0,100):\n",
    "    ind = bootstrap_resample(X,n=386) #Call bootstrap to randomly select index\n",
    "    Index[m]=ind\n",
    "    X_resample= X[ind]\n",
    "    Y_resample= Y[ind]\n",
    "    X_testbsr=np.delete(X,ind,axis=0)\n",
    "    Y_testbsr=np.delete(Y,ind,axis=0)\n",
    "    y2=[]\n",
    "    for t in Y_resample:\n",
    "        y2.append(float(str(t)[1:-1]))\n",
    "    Y_resample=y2\n",
    "    #print(Y_resample)\n",
    "    regr.fit(X_resample, Y_resample)\n",
    "    Y_pred_resample=regr.predict(X_testbsr)  #Fit ANN on test\n",
    "    Y_pred_train=regr.predict(X_resample)    #Fit ANN on training set\n",
    "    Y_pred_all[:,m]=regr.predict(X)          # Fit ANN on complete database\n",
    "    MSE_train=mean_squared_error(Y_resample, Y_pred_train)\n",
    "    MSE_test= mean_squared_error(Y_testbsr, Y_pred_resample)\n",
    "    MSE_boot[m]=(MSE_train*0.368)+(0.632)*(MSE_test)"
   ]
  },
  {
   "cell_type": "code",
   "execution_count": 42,
   "metadata": {},
   "outputs": [],
   "source": [
    "#print(utils.multiclass.type_of_target(Y.astype('int')))"
   ]
  },
  {
   "cell_type": "code",
   "execution_count": 43,
   "metadata": {},
   "outputs": [
    {
     "name": "stdout",
     "output_type": "stream",
     "text": [
      "0.02624695923045681\n"
     ]
    }
   ],
   "source": [
    "z=min(MSE_boot)\n",
    "print(z)\n",
    "d=np.sort(Y_pred_all)\n",
    "alpha=0.95\n",
    "lower=np.zeros(386)\n",
    "upper=np.zeros(386)\n",
    "mean=np.mean(d,axis=1)\n",
    "p = ((1.0-alpha)/2.0) * 100\n",
    "q = (alpha+((1.0-alpha)/2.0)) * 100\n",
    "for j in range(0,386):\n",
    "    min_=min(d[j])\n",
    "    max_=max(d[j])\n",
    "    lower[j] = max(min_, np.percentile(d[j,:], p)) #Lower limit\n",
    "    upper[j]=min(max_, np.percentile(d[j,:], q))   #Upper limit"
   ]
  },
  {
   "cell_type": "code",
   "execution_count": 44,
   "metadata": {},
   "outputs": [],
   "source": [
    "pd.DataFrame(lower).to_csv('/Users/blair/Desktop/RFRegressor/lowerlimit.csv') #Put address\n",
    "pd.DataFrame(upper).to_csv('/Users/blair/Desktop/RFRegressor/upperlimit.csv')#Put address\n",
    "pd.DataFrame(mean).to_csv('/Users/blair/Desktop/RFRegressor/mean.csv')#Put address\n",
    "pd.DataFrame(MSE_boot).to_csv('/Users/blair/Desktop/RFRegressor/mse.csv')#Put address\n",
    "b=np.argmin(MSE_boot)\n",
    "min_index=Index[b]\n",
    "min_index=np.array(min_index)\n",
    "train_best= X[min_index]\n",
    "train_best.shape\n",
    "Y_best_train= Y[min_index]\n",
    "#Predicting output for model with least error\n",
    "y3=[]\n",
    "for t in Y_best_train:\n",
    "    y3.append(float(str(t)[1:-1]))\n",
    "Y_best_train=y3\n",
    "regr.fit(train_best,Y_best_train)\n",
    "Y_prediction=regr.predict(X)\n",
    "#Save output in csv\n",
    "#pd.DataFrame(Y_test).to_csv('/home/rcf-proj/sm1/bipengwa/project/pymatgen/tanya/Y_test.csv')#Put address\n",
    "pd.DataFrame(Y_prediction).to_csv('/Users/blair/Desktop/RFRegressor/Y_prediction.csv')#Put address\n",
    "#pd.DataFrame(Y_target).to_csv('/Users/blair/Desktop/RFRegressor/Y_target.csv') #Put address"
   ]
  },
  {
   "cell_type": "code",
   "execution_count": 45,
   "metadata": {},
   "outputs": [],
   "source": [
    "X_best_testbsr=np.delete(X,min_index,axis=0)\n",
    "Y_best_testbsr=np.delete(Y,min_index,axis=0)\n",
    "Y_pred_best_testbsr=regr.predict(X_best_testbsr)\n",
    "pd.DataFrame(Y_pred_best_testbsr).to_csv('/Users/blair/Desktop/RFRegressor/Y_best_pred_testbsr.csv')\n",
    "pd.DataFrame(Y_best_testbsr).to_csv('/Users/blair/Desktop/RFRegressor/Y_best_testbsr.csv')"
   ]
  },
  {
   "cell_type": "code",
   "execution_count": 46,
   "metadata": {},
   "outputs": [
    {
     "name": "stdout",
     "output_type": "stream",
     "text": [
      "{'bootstrap': 0, 'criterion': 'mse', 'max_depth': None, 'max_features': 'auto', 'max_leaf_nodes': None, 'min_impurity_decrease': 0.0, 'min_impurity_split': None, 'min_samples_leaf': 1, 'min_samples_split': 2, 'min_weight_fraction_leaf': 0.0, 'n_estimators': 100, 'n_jobs': None, 'oob_score': False, 'random_state': 0, 'verbose': 0, 'warm_start': False}\n"
     ]
    }
   ],
   "source": [
    "depth=regr.get_params(deep=1)\n",
    "print(depth)"
   ]
  },
  {
   "cell_type": "code",
   "execution_count": null,
   "metadata": {},
   "outputs": [],
   "source": []
  },
  {
   "cell_type": "code",
   "execution_count": null,
   "metadata": {},
   "outputs": [],
   "source": []
  },
  {
   "cell_type": "code",
   "execution_count": null,
   "metadata": {},
   "outputs": [],
   "source": []
  },
  {
   "cell_type": "code",
   "execution_count": null,
   "metadata": {},
   "outputs": [],
   "source": []
  },
  {
   "cell_type": "code",
   "execution_count": null,
   "metadata": {},
   "outputs": [],
   "source": []
  },
  {
   "cell_type": "code",
   "execution_count": null,
   "metadata": {},
   "outputs": [],
   "source": []
  },
  {
   "cell_type": "code",
   "execution_count": 27,
   "metadata": {},
   "outputs": [
    {
     "name": "stdout",
     "output_type": "stream",
     "text": [
      "<class 'numpy.ndarray'>\n",
      "continuous\n"
     ]
    }
   ],
   "source": [
    "lab_enc = preprocessing.LabelEncoder()\n",
    "Target = lab_enc.fit_transform(Y)\n",
    "print(type(Y))\n",
    "#print(y)\n",
    "print(utils.multiclass.type_of_target(Y))"
   ]
  },
  {
   "cell_type": "code",
   "execution_count": 219,
   "metadata": {},
   "outputs": [
    {
     "ename": "AttributeError",
     "evalue": "'LabelEncoder' object has no attribute 'inverse_transform_transform'",
     "output_type": "error",
     "traceback": [
      "\u001b[0;31m---------------------------------------------------------------------------\u001b[0m",
      "\u001b[0;31mAttributeError\u001b[0m                            Traceback (most recent call last)",
      "\u001b[0;32m<ipython-input-219-dddcb9094900>\u001b[0m in \u001b[0;36m<module>\u001b[0;34m\u001b[0m\n\u001b[0;32m----> 1\u001b[0;31m \u001b[0mlist\u001b[0m\u001b[0;34m(\u001b[0m\u001b[0mlab_enc\u001b[0m\u001b[0;34m.\u001b[0m\u001b[0minverse_transform_transform\u001b[0m\u001b[0;34m(\u001b[0m\u001b[0my\u001b[0m\u001b[0;34m)\u001b[0m\u001b[0;34m)\u001b[0m\u001b[0;34m\u001b[0m\u001b[0m\n\u001b[0m",
      "\u001b[0;31mAttributeError\u001b[0m: 'LabelEncoder' object has no attribute 'inverse_transform_transform'"
     ]
    }
   ],
   "source": [
    "list(lab_enc.inverse_transform_transform(y))"
   ]
  },
  {
   "cell_type": "code",
   "execution_count": null,
   "metadata": {
    "scrolled": false
   },
   "outputs": [],
   "source": [
    "clf.fit(predictiondata, Target)"
   ]
  },
  {
   "cell_type": "code",
   "execution_count": null,
   "metadata": {},
   "outputs": [],
   "source": [
    "c=predictiondata[-1]\n",
    "print(utils.multiclass.type_of_target(c))\n",
    "#c=array.reshape(1, -1)\n",
    "print(c)\n",
    "print(type(c))\n",
    "print(len(c))\n"
   ]
  },
  {
   "cell_type": "code",
   "execution_count": null,
   "metadata": {},
   "outputs": [],
   "source": [
    "print(clf.predict([c]))"
   ]
  },
  {
   "cell_type": "code",
   "execution_count": null,
   "metadata": {},
   "outputs": [],
   "source": [
    "list(lab_enc.inverse_transform_transform(75))"
   ]
  },
  {
   "cell_type": "code",
   "execution_count": null,
   "metadata": {},
   "outputs": [],
   "source": []
  }
 ],
 "metadata": {
  "kernelspec": {
   "display_name": "Python 3",
   "language": "python",
   "name": "python3"
  },
  "language_info": {
   "codemirror_mode": {
    "name": "ipython",
    "version": 3
   },
   "file_extension": ".py",
   "mimetype": "text/x-python",
   "name": "python",
   "nbconvert_exporter": "python",
   "pygments_lexer": "ipython3",
   "version": "3.6.6"
  }
 },
 "nbformat": 4,
 "nbformat_minor": 2
}
