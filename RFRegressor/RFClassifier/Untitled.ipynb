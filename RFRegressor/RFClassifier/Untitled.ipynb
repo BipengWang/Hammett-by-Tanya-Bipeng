{
 "cells": [
  {
   "cell_type": "code",
   "execution_count": 87,
   "metadata": {},
   "outputs": [
    {
     "name": "stdout",
     "output_type": "stream",
     "text": [
      "[-1, -1, -1, 0, 1, 1, 1]\n"
     ]
    }
   ],
   "source": [
    "import numpy as np\n",
    "\n",
    "Y=[-5,-6,-7,0,5,6,7]\n",
    "Y=np.array(Y)\n",
    "y1=[]\n",
    "for m in Y:\n",
    "    if m < 0:\n",
    "        m = -1\n",
    "    else:\n",
    "        if m == 0:\n",
    "            m = 0\n",
    "        else:\n",
    "            m = 1\n",
    "    y1.append(m)\n",
    "print(y1)"
   ]
  },
  {
   "cell_type": "code",
   "execution_count": null,
   "metadata": {},
   "outputs": [],
   "source": []
  },
  {
   "cell_type": "code",
   "execution_count": 75,
   "metadata": {},
   "outputs": [
    {
     "name": "stdout",
     "output_type": "stream",
     "text": [
      "[-1, -1, -1, 0, 1, 1, 1]\n"
     ]
    }
   ],
   "source": [
    "import numpy as np\n",
    "\n",
    "Y=[-5,-6,-7,0,5,6,7]\n",
    "Y=np.array(Y)\n",
    "\n",
    "y1 = []\n",
    "for m in Y:\n",
    "    if m < 0:\n",
    "        #print(m)\n",
    "        m = -1\n",
    "        #print(m)\n",
    "    elif m > 0:\n",
    "        m = 1\n",
    "    y1.append(m) \n",
    "                \n",
    "print(y1)"
   ]
  },
  {
   "cell_type": "code",
   "execution_count": null,
   "metadata": {},
   "outputs": [],
   "source": []
  },
  {
   "cell_type": "code",
   "execution_count": null,
   "metadata": {},
   "outputs": [],
   "source": []
  },
  {
   "cell_type": "code",
   "execution_count": null,
   "metadata": {},
   "outputs": [],
   "source": []
  },
  {
   "cell_type": "code",
   "execution_count": null,
   "metadata": {},
   "outputs": [],
   "source": []
  },
  {
   "cell_type": "code",
   "execution_count": 14,
   "metadata": {},
   "outputs": [
    {
     "name": "stdout",
     "output_type": "stream",
     "text": [
      "7\n",
      "None\n"
     ]
    }
   ],
   "source": [
    "y1=[]\n",
    "\n",
    "Y=[-5,-6,-7,0,5,6,7]\n",
    "\n",
    "print(len(Y))\n",
    "\n",
    "def transform (Y,m):\n",
    "    for m in Y:\n",
    "        if m < 0:\n",
    "            m == 1\n",
    "        else:\n",
    "            if m == 0:\n",
    "                m == 2\n",
    "            else:\n",
    "                m == 3\n",
    "        return m\n",
    "\n",
    "    \n",
    "y1=y1.append(transform)\n",
    "\n",
    "Y=y1\n",
    "#print(len(Y))\n",
    "print(Y)\n",
    "\n"
   ]
  }
 ],
 "metadata": {
  "kernelspec": {
   "display_name": "Python 3",
   "language": "python",
   "name": "python3"
  },
  "language_info": {
   "codemirror_mode": {
    "name": "ipython",
    "version": 3
   },
   "file_extension": ".py",
   "mimetype": "text/x-python",
   "name": "python",
   "nbconvert_exporter": "python",
   "pygments_lexer": "ipython3",
   "version": "3.6.6"
  }
 },
 "nbformat": 4,
 "nbformat_minor": 2
}
