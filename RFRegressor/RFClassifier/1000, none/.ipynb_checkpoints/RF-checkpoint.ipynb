{
 "cells": [
  {
   "cell_type": "code",
   "execution_count": 2,
   "metadata": {},
   "outputs": [],
   "source": [
    "import pandas as pd\n",
    "import numpy as np\n",
    "from sklearn.ensemble import RandomForestClassifier\n",
    "from sklearn import utils\n",
    "from sklearn import preprocessing\n",
    "from sklearn.metrics import mean_squared_error"
   ]
  },
  {
   "cell_type": "code",
   "execution_count": 337,
   "metadata": {
    "scrolled": false
   },
   "outputs": [],
   "source": [
    "input=pd.read_csv('/Users/blair/Desktop/RF/input_386.csv')#Put address\n",
    "efp=pd.read_csv('/Users/blair/Desktop/RF/ecfp_256.csv')\n",
    "efp=np.array(efp)\n",
    "Isomer=input[['Isomer']].copy()\n",
    "X=np.concatenate((efp,Isomer),axis=1)"
   ]
  },
  {
   "cell_type": "code",
   "execution_count": 338,
   "metadata": {},
   "outputs": [],
   "source": [
    "X=preprocessing.normalize(X)\n",
    "#print(X)\n",
    "#print(len(X))"
   ]
  },
  {
   "cell_type": "code",
   "execution_count": 339,
   "metadata": {},
   "outputs": [],
   "source": [
    "Y=input[['Hammett Constant']].copy()\n",
    "Y=np.array(Y)\n",
    "#print(y)\n",
    "#print(len(Y))\n",
    "#print(type(Y))\n",
    "#print(Y)"
   ]
  },
  {
   "cell_type": "code",
   "execution_count": 1,
   "metadata": {},
   "outputs": [
    {
     "ename": "NameError",
     "evalue": "name 'Y' is not defined",
     "output_type": "error",
     "traceback": [
      "\u001b[0;31m---------------------------------------------------------------------------\u001b[0m",
      "\u001b[0;31mNameError\u001b[0m                                 Traceback (most recent call last)",
      "\u001b[0;32m<ipython-input-1-ecd53be047af>\u001b[0m in \u001b[0;36m<module>\u001b[0;34m\u001b[0m\n\u001b[1;32m      1\u001b[0m \u001b[0my0\u001b[0m\u001b[0;34m=\u001b[0m\u001b[0;34m[\u001b[0m\u001b[0;34m]\u001b[0m\u001b[0;34m\u001b[0m\u001b[0m\n\u001b[0;32m----> 2\u001b[0;31m \u001b[0;32mfor\u001b[0m \u001b[0mm\u001b[0m \u001b[0;32min\u001b[0m \u001b[0mY\u001b[0m\u001b[0;34m:\u001b[0m\u001b[0;34m\u001b[0m\u001b[0m\n\u001b[0m\u001b[1;32m      3\u001b[0m     \u001b[0;32mif\u001b[0m \u001b[0mm\u001b[0m \u001b[0;34m<\u001b[0m \u001b[0;36m0\u001b[0m\u001b[0;34m:\u001b[0m\u001b[0;34m\u001b[0m\u001b[0m\n\u001b[1;32m      4\u001b[0m         \u001b[0mm\u001b[0m \u001b[0;34m=\u001b[0m \u001b[0;34m-\u001b[0m\u001b[0;36m1\u001b[0m\u001b[0;34m\u001b[0m\u001b[0m\n\u001b[1;32m      5\u001b[0m     \u001b[0;32melse\u001b[0m\u001b[0;34m:\u001b[0m\u001b[0;34m\u001b[0m\u001b[0m\n",
      "\u001b[0;31mNameError\u001b[0m: name 'Y' is not defined"
     ]
    }
   ],
   "source": [
    "y0=[]\n",
    "for m in Y:\n",
    "    if m < 0:\n",
    "        m = -1\n",
    "    else:\n",
    "        if m == 0:\n",
    "            m = 0\n",
    "        else:\n",
    "            m = 1   \n",
    "    y0.append(m)\n",
    "\n",
    "Y_target=y0\n",
    "Y_target=np.array(Y_target)\n",
    "pd.DataFrame(Y_target).to_csv('/Users/blair/Desktop/RF/Y_target.csv') #Put address\n",
    "#print(Y_target)"
   ]
  },
  {
   "cell_type": "code",
   "execution_count": 341,
   "metadata": {},
   "outputs": [],
   "source": [
    "y1=[]\n",
    "for m in Y:\n",
    "    if m < 0:\n",
    "        m = [-1]\n",
    "    else:\n",
    "        if m == 0:\n",
    "            m = [0]\n",
    "        else:\n",
    "            m = [1]      \n",
    "    y1.append(m)\n",
    "\n",
    "Y=y1\n",
    "Y=np.array(Y)\n",
    "\n",
    "#print(type(Y))\n",
    "#print(Y)\n"
   ]
  },
  {
   "cell_type": "code",
   "execution_count": null,
   "metadata": {},
   "outputs": [],
   "source": []
  },
  {
   "cell_type": "code",
   "execution_count": 342,
   "metadata": {},
   "outputs": [],
   "source": [
    "def bootstrap_resample(X, n=None):\n",
    "   \n",
    "    if n == None:\n",
    "        n = len(X)\n",
    "        \n",
    "    resample_i = np.floor(np.random.rand(n)*len(X)).astype(int)\n",
    "    i= resample_i\n",
    "    return i"
   ]
  },
  {
   "cell_type": "code",
   "execution_count": 343,
   "metadata": {},
   "outputs": [],
   "source": [
    "MSE_boot=np.zeros((100),dtype= float)\n",
    "Index= np.zeros((100,386),dtype=int)\n",
    "Y_prediction=np.zeros(386).T\n",
    "Y_pred_all=np.zeros((386,100),dtype=float)"
   ]
  },
  {
   "cell_type": "code",
   "execution_count": 344,
   "metadata": {},
   "outputs": [],
   "source": [
    "clf = RandomForestClassifier(n_estimators=100, max_depth=10,\n",
    "                             random_state=0,bootstrap=0)"
   ]
  },
  {
   "cell_type": "code",
   "execution_count": 345,
   "metadata": {},
   "outputs": [],
   "source": [
    "for m in range(0,100):\n",
    "    ind = bootstrap_resample(X,n=386) #Call bootstrap to randomly select index\n",
    "    Index[m]=ind\n",
    "    X_resample= X[ind]\n",
    "    Y_resample= Y[ind]\n",
    "    X_testbsr=np.delete(X,ind,axis=0)\n",
    "    Y_testbsr=np.delete(Y,ind,axis=0)\n",
    "    y2=[]\n",
    "    for t in Y_resample:\n",
    "        y2.append(float(str(t)[1:-1]))\n",
    "    Y_resample=y2\n",
    "    #print(Y_resample)\n",
    "    clf.fit(X_resample, Y_resample)\n",
    "    Y_pred_resample=clf.predict(X_testbsr)  #Fit ANN on test\n",
    "    Y_pred_train=clf.predict(X_resample)    #Fit ANN on training set\n",
    "    Y_pred_all[:,m]=clf.predict(X)          # Fit ANN on complete database\n",
    "    MSE_train=mean_squared_error(Y_resample, Y_pred_train)\n",
    "    MSE_test= mean_squared_error(Y_testbsr, Y_pred_resample)\n",
    "    MSE_boot[m]=(MSE_train*0.368)+(0.632)*(MSE_test)"
   ]
  },
  {
   "cell_type": "code",
   "execution_count": 346,
   "metadata": {},
   "outputs": [],
   "source": [
    "#print(utils.multiclass.type_of_target(Y.astype('int')))"
   ]
  },
  {
   "cell_type": "code",
   "execution_count": 347,
   "metadata": {},
   "outputs": [
    {
     "name": "stdout",
     "output_type": "stream",
     "text": [
      "0.27454231433506043\n"
     ]
    }
   ],
   "source": [
    "z=min(MSE_boot)\n",
    "print(z)\n",
    "d=np.sort(Y_pred_all)\n",
    "alpha=0.95\n",
    "lower=np.zeros(386)\n",
    "upper=np.zeros(386)\n",
    "mean=np.mean(d,axis=1)\n",
    "p = ((1.0-alpha)/2.0) * 100\n",
    "q = (alpha+((1.0-alpha)/2.0)) * 100\n",
    "for j in range(0,386):\n",
    "    min_=min(d[j])\n",
    "    max_=max(d[j])\n",
    "    lower[j] = max(min_, np.percentile(d[j,:], p)) #Lower limit\n",
    "    upper[j]=min(max_, np.percentile(d[j,:], q))   #Upper limit"
   ]
  },
  {
   "cell_type": "code",
   "execution_count": 348,
   "metadata": {},
   "outputs": [],
   "source": [
    "pd.DataFrame(lower).to_csv('/Users/blair/Desktop/RF/lowerlimit.csv') #Put address\n",
    "pd.DataFrame(upper).to_csv('/Users/blair/Desktop/RF/upperlimit.csv')#Put address\n",
    "pd.DataFrame(mean).to_csv('/Users/blair/Desktop/RF/mean.csv')#Put address\n",
    "pd.DataFrame(MSE_boot).to_csv('/Users/blair/Desktop/RF/mse.csv')#Put address\n",
    "b=np.argmin(MSE_boot)\n",
    "min_index=Index[b]\n",
    "min_index=np.array(min_index)\n",
    "train_best= X[min_index]\n",
    "train_best.shape\n",
    "Y_best_train= Y[min_index]\n",
    "#Predicting output for model with least error\n",
    "y3=[]\n",
    "for t in Y_best_train:\n",
    "    y3.append(float(str(t)[1:-1]))\n",
    "Y_best_train=y3\n",
    "clf.fit(train_best,Y_best_train)\n",
    "Y_prediction=clf.predict(X)\n",
    "#Save output in csv\n",
    "#pd.DataFrame(Y_test).to_csv('/home/rcf-proj/sm1/bipengwa/project/pymatgen/tanya/Y_test.csv')#Put address\n",
    "pd.DataFrame(Y_prediction).to_csv('/Users/blair/Desktop/RF/Y_prediction.csv0.csv')#Put address\n",
    "\n"
   ]
  }
 ],
 "metadata": {
  "kernelspec": {
   "display_name": "Python 3",
   "language": "python",
   "name": "python3"
  },
  "language_info": {
   "codemirror_mode": {
    "name": "ipython",
    "version": 3
   },
   "file_extension": ".py",
   "mimetype": "text/x-python",
   "name": "python",
   "nbconvert_exporter": "python",
   "pygments_lexer": "ipython3",
   "version": "3.6.6"
  }
 },
 "nbformat": 4,
 "nbformat_minor": 2
}
